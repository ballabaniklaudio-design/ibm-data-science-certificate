{
 "cells": [
  {
   "cell_type": "markdown",
   "id": "ec51165b",
   "metadata": {},
   "source": [
    "# Outils et écosytème de la science des données"
   ]
  },
  {
   "cell_type": "markdown",
   "id": "f0da0464",
   "metadata": {},
   "source": [
    "Dans ce notebook, les outils et l'écosystème de la science des données sont résumés."
   ]
  },
  {
   "cell_type": "markdown",
   "id": "0eb07d87",
   "metadata": {},
   "source": [
    "**Objectifs:**\n",
    "* Lister les languages populaires pour la science des données\n",
    "* Lister les bibliothèques populaires pour la science des données\n",
    "* Créer un dépot GitHub"
   ]
  },
  {
   "cell_type": "markdown",
   "id": "2da846e3",
   "metadata": {},
   "source": [
    "Certains des langages populaires que les scientifiques des données utilisent sont:\n",
    "1. Python\n",
    "2. R\n",
    "3. Java"
   ]
  },
  {
   "cell_type": "markdown",
   "id": "28ecd00e",
   "metadata": {},
   "source": [
    "Certaine des bibliothèques couramment utilisées par les scientifiques des données incluent:\n",
    "1. Pandas\n",
    "2. Numpy\n",
    "3. Matplotlib"
   ]
  },
  {
   "cell_type": "markdown",
   "id": "3d277798",
   "metadata": {},
   "source": [
    "| Outil de la science des données |\n",
    "|---------------------------------|\n",
    "|Jupyter NoteBook|\n",
    "|Jupyter Lab|\n",
    "|Github|\n"
   ]
  },
  {
   "cell_type": "markdown",
   "id": "490f3cf9",
   "metadata": {},
   "source": [
    "### Voici quelques exemples d'évaluation d'expression arithmétiques en Python."
   ]
  },
  {
   "cell_type": "code",
   "execution_count": 2,
   "id": "d00b9a45",
   "metadata": {},
   "outputs": [
    {
     "data": {
      "text/plain": [
       "17"
      ]
     },
     "execution_count": 2,
     "metadata": {},
     "output_type": "execute_result"
    }
   ],
   "source": [
    "# Ceci est une dimple expression arithmétique pour multiplier puis additionner des entiers\n",
    "\n",
    "(3*4)+5"
   ]
  },
  {
   "cell_type": "code",
   "execution_count": 3,
   "id": "87161b90",
   "metadata": {},
   "outputs": [
    {
     "data": {
      "text/plain": [
       "3.3333333333333335"
      ]
     },
     "execution_count": 3,
     "metadata": {},
     "output_type": "execute_result"
    }
   ],
   "source": [
    "# Cela convertira 200 minutes en heures en divisant par 60\n",
    "\n",
    "200/60"
   ]
  },
  {
   "cell_type": "markdown",
   "id": "399d8d12",
   "metadata": {},
   "source": [
    "## Auteur\n",
    "Ballabani Klaudio"
   ]
  },
  {
   "cell_type": "code",
   "execution_count": null,
   "id": "d6f8893c",
   "metadata": {},
   "outputs": [],
   "source": []
  }
 ],
 "metadata": {
  "kernelspec": {
   "display_name": "Python 3 (ipykernel)",
   "language": "python",
   "name": "python3"
  },
  "language_info": {
   "codemirror_mode": {
    "name": "ipython",
    "version": 3
   },
   "file_extension": ".py",
   "mimetype": "text/x-python",
   "name": "python",
   "nbconvert_exporter": "python",
   "pygments_lexer": "ipython3",
   "version": "3.10.9"
  }
 },
 "nbformat": 4,
 "nbformat_minor": 5
}
